{
 "cells": [
  {
   "cell_type": "code",
   "execution_count": null,
   "metadata": {},
   "outputs": [],
   "source": [
    "import pandas as pd\n",
    "import altair as alt\n",
    "alt.data_transformers.disable_max_rows()"
   ]
  },
  {
   "cell_type": "code",
   "execution_count": null,
   "metadata": {},
   "outputs": [],
   "source": [
    "columns = [\n",
    "    \"date_time\", \"city\", \"state\", \"country\", \"shape\",\n",
    "    \"duration_seconds\", \"duration_hours_mins\", \"comments\",\n",
    "    \"date_posted\", \"latitude\", \"longitude\"\n",
    "]\n"
   ]
  },
  {
   "cell_type": "code",
   "execution_count": null,
   "metadata": {},
   "outputs": [],
   "source": [
    "url = \"https://github.com/UIUC-iSchool-DataViz/is445_data/raw/main/ufo-scrubbed-geocoded-time-standardized-00.csv\"\n",
    "\n",
    "df = pd.read_csv(url, header=None, names=columns, skiprows=1)\n",
    "df['date_time'] = pd.to_datetime(df['date_time'], errors='coerce')\n",
    "df = df.dropna(subset=['latitude', 'longitude'])\n",
    "df['year'] = df['date_time'].dt.year\n",
    "\n",
    "df.head()\n"
   ]
  },
  {
   "cell_type": "code",
   "execution_count": null,
   "metadata": {},
   "outputs": [],
   "source": [
    "import os\n",
    "\n",
    "os.makedirs('charts', exist_ok=True)\n"
   ]
  },
  {
   "cell_type": "code",
   "execution_count": null,
   "metadata": {},
   "outputs": [],
   "source": [
    "\n",
    "sightings_per_year = df.groupby('year').size().reset_index(name='count')\n",
    "\n",
    "chart1 = alt.Chart(sightings_per_year).mark_line().encode(\n",
    "    x=alt.X('year:Q', title='Year', axis=alt.Axis(format='d', tickCount=10)),\n",
    "    y=alt.Y('count:Q', title='Number of Sightings'),\n",
    "    tooltip=['year', 'count']\n",
    ").properties(\n",
    "    title='UFO Sightings Over the Years',\n",
    "    width=700,\n",
    "    height=400\n",
    ")\n",
    "\n",
    "chart1.save('charts/chart1.json')\n",
    "chart1"
   ]
  },
  {
   "cell_type": "code",
   "execution_count": null,
   "metadata": {},
   "outputs": [],
   "source": [
    "\n",
    "selection = alt.selection_multi(fields=['shape'], bind='legend')\n",
    "\n",
    "chart2 = alt.Chart(df).mark_circle(size=60).encode(\n",
    "    longitude='longitude:Q',\n",
    "    latitude='latitude:Q',\n",
    "    color=alt.Color('shape:N'),\n",
    "    tooltip=['city', 'state', 'date_time', 'shape'],\n",
    "    opacity=alt.condition(selection, alt.value(1), alt.value(0.1))\n",
    ").add_selection(\n",
    "    selection\n",
    ").properties(\n",
    "    title='UFO Sightings by Shape and Location',\n",
    "    width=700,\n",
    "    height=400\n",
    ")\n",
    "\n",
    "chart2.save('charts/chart2.json')\n",
    "chart2\n"
   ]
  },
  {
   "cell_type": "code",
   "execution_count": null,
   "metadata": {},
   "outputs": [],
   "source": [
    "df.to_csv(\"cleaned_ufo_data.csv\", index=False)\n",
    "\n"
   ]
  },
  {
   "cell_type": "code",
   "execution_count": null,
   "metadata": {},
   "outputs": [],
   "source": []
  }
 ],
 "metadata": {
  "kernelspec": {
   "display_name": "base",
   "language": "python",
   "name": "python3"
  },
  "language_info": {
   "codemirror_mode": {
    "name": "ipython",
    "version": 3
   },
   "file_extension": ".py",
   "mimetype": "text/x-python",
   "name": "python",
   "nbconvert_exporter": "python",
   "pygments_lexer": "ipython3",
   "version": "3.12.7"
  }
 },
 "nbformat": 4,
 "nbformat_minor": 2
}
